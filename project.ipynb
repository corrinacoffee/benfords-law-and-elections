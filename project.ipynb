{
 "cells": [
  {
   "cell_type": "code",
   "execution_count": 1,
   "metadata": {},
   "outputs": [
    {
     "name": "stdout",
     "output_type": "stream",
     "text": [
      "\n",
      "Corrina Del Greco, Dec 2020\n",
      "Benford's Law and the 2020 Election\n",
      "\n",
      "This lesson is based on YouTuber Stand-up Math's video \"Why do Biden's votes not follow Benford's Law?\"\n",
      "\n",
      "The reason for solving this problem: There are a lot of \"backed up\" claims that we are expected to trust because data is presented. This video disproves one of those claims, but in doing do, it itself is one. The moral of the story is to verify, double check, and see for yourself. It is an integral part of data science.\n",
      "\n",
      "The two sentence summary: An exploration of Benford's Law as applied to Joe Biden and Donald Trump's votes in the precincts of Chicago. Deeper anaylsis reveals interesting results.\n",
      "\n"
     ]
    }
   ],
   "source": [
    "# --print header--\n",
    "print('\\nCorrina Del Greco, Dec 2020')\n",
    "print('Benford\\'s Law and the 2020 Election')\n",
    "print('\\nThis lesson is based on YouTuber Stand-up Math\\'s video \"Why do Biden\\'s votes not follow Benford\\'s Law?\"')\n",
    "# https://www.youtube.com/watch?v=etx0k1nLn78&feature=youtu.be\n",
    "print('\\nThe reason for solving this problem: There are a lot of \"backed up\" claims that we are expected to trust because data is presented. '\n",
    "      + 'This video disproves one of those claims, but in doing do, it itself is one. '\n",
    "      + 'The moral of the story is to verify, double check, and see for yourself. It is an integral part of data science.')\n",
    "print('\\nThe two sentence summary: An exploration of Benford\\'s Law as applied to Joe Biden and Donald Trump\\'s votes in the precincts of Chicago. Deeper anaylsis reveals interesting results.\\n')"
   ]
  },
  {
   "cell_type": "code",
   "execution_count": 2,
   "metadata": {},
   "outputs": [],
   "source": [
    "# --import libraries--\n",
    "import numpy as np\n",
    "import matplotlib.pyplot as plt\n",
    "import pandas as pd\n",
    "from pathlib import Path"
   ]
  },
  {
   "cell_type": "code",
   "execution_count": 3,
   "metadata": {},
   "outputs": [
    {
     "name": "stdout",
     "output_type": "stream",
     "text": [
      "\n",
      "Change the path in this cell to where the project files were downloaded on your machine.\n",
      "You're telling me that the files are at: c:\\Users\\Corrina Del Greco\\Documents\\ERAU\\MA305\\My Work\\Project\\\n",
      "\n"
     ]
    }
   ],
   "source": [
    "# --set path to project files--\n",
    "print('\\nChange the path in this cell to where the project files were downloaded on your machine.')\n",
    "my_folder = \"c:\\\\Users\\\\Corrina Del Greco\\\\Documents\\\\ERAU\\\\MA305\\\\My Work\\\\Project\\\\\"\n",
    "print('You\\'re telling me that the files are at: ' + my_folder + '\\n')"
   ]
  },
  {
   "cell_type": "code",
   "execution_count": 4,
   "metadata": {},
   "outputs": [],
   "source": [
    "# --check if benford djstribution file exists--\n",
    "bd_local_csv_filename = my_folder + \"benforddist.csv\"\n",
    "my_file = Path(bd_local_csv_filename)\n",
    "if my_file.exists() == False:\n",
    "    print('\\nFile does not exist: ' + bd_local_csv_filename)\n",
    "    print('Check and rerun the cell that sets that path before continuing.\\n')\n",
    "    exit()"
   ]
  },
  {
   "cell_type": "code",
   "execution_count": 5,
   "metadata": {},
   "outputs": [
    {
     "name": "stdout",
     "output_type": "stream",
     "text": [
      "\n",
      "So what is Benford's law?\n",
      "Benford's law is a statement that if you get a large range of data from the \"real world\" and you look at the lead digit of each of the values, if you count up how many are ones, how many are twos, and so on, you get way more ones than anything else.\n",
      "Important to note: Benford's Law applies only when the data spans multiple magnitudes. More on this later.\n",
      "\n",
      "Benford Distribution:\n",
      "    Digit  Proportion\n",
      "0      1        30.1\n",
      "1      2        17.6\n",
      "2      3        12.5\n",
      "3      4         9.7\n",
      "4      5         7.9\n",
      "5      6         6.7\n",
      "6      7         5.8\n",
      "7      8         5.1\n",
      "8      9         4.6 \n",
      "\n"
     ]
    },
    {
     "data": {
      "image/png": "[encoded data removed]",
      "text/plain": [
       "<Figure size 432x288 with 1 Axes>"
      ]
     },
     "metadata": {
      "needs_background": "light"
     },
     "output_type": "display_data"
    },
    {
     "name": "stdout",
     "output_type": "stream",
     "text": [
      "The discussion is about a) Benford's law being used for detecting election fraud, and b) Joe Biden's vote totals not matching Benford's Law (where Donald Trump's vote totals do). To explore this, we first need data.\n",
      "\n"
     ]
    }
   ],
   "source": [
    "# --load benford distribution file--\n",
    "df_bd = pd.read_csv(bd_local_csv_filename)\n",
    "\n",
    "print('\\nSo what is Benford\\'s law?')\n",
    "print('Benford\\'s law is a statement that if you get a large range of data from the \"real world\" '\n",
    "      + 'and you look at the lead digit of each of the values, if you count up '\n",
    "      + 'how many are ones, how many are twos, and so on, you get '\n",
    "      + 'way more ones than anything else.')\n",
    "print('Important to note: Benford\\'s Law applies only when the data spans multiple magnitudes. More on this later.')\n",
    "\n",
    "# --plot benford distribution--\n",
    "print('\\nBenford Distribution:\\n', df_bd, '\\n')\n",
    "plt.bar(df_bd['Digit'],df_bd['Proportion'], color='green')\n",
    "plt.plot(df_bd['Digit'],df_bd['Proportion'], color='black')\n",
    "plt.title(\"Benford Distribution\")\n",
    "plt.xlabel(\"Digits\")\n",
    "plt.ylabel(\"% Proportion\")\n",
    "plt.xticks(df_bd['Digit'])\n",
    "plt.show()\n",
    "\n",
    "print('The discussion is about a) Benford\\'s law being used for detecting election fraud, and '\n",
    "      + 'b) Joe Biden\\'s vote totals not matching Benford\\'s Law (where Donald Trump\\'s vote totals do). '\n",
    "      + 'To explore this, we first need data.\\n')"
   ]
  },
  {
   "cell_type": "code",
   "execution_count": 6,
   "metadata": {},
   "outputs": [
    {
     "name": "stdout",
     "output_type": "stream",
     "text": [
      "\n",
      "Election data for Chicago's 2069 precincts is publicly available online.\n",
      "I've downloaded the data and converted it to a csv containing only columns relevant to our experiment:\n",
      "   Total votes, votes for Biden, and votes for Trump\n",
      "If you want to do this yourself, change the values in this cell to match your file.\n",
      "\n"
     ]
    }
   ],
   "source": [
    "# --set variables based on data file--\n",
    "print('\\nElection data for Chicago\\'s 2069 precincts is publicly available online.')\n",
    "# https://chicagoelections.gov/en/election-results-specifics.asp\n",
    "print('I\\'ve downloaded the data and converted it to a csv containing only columns relevant to our experiment:')\n",
    "print('   Total votes, votes for Biden, and votes for Trump')\n",
    "print('If you want to do this yourself, change the values in this cell to match your file.\\n')\n",
    "\n",
    "local_csv_filename = my_folder + \"mydataexport.csv\" # csv file name\n",
    "v_column = 'Votes'                                  # column header for total votes\n",
    "d_column = 'Joseph R. Biden & Kamala D. Harris'     # column header for democrat votes\n",
    "r_column = 'Donald J. Trump & Michael R. Pence'     # column header for republican votes"
   ]
  },
  {
   "cell_type": "code",
   "execution_count": 7,
   "metadata": {},
   "outputs": [],
   "source": [
    "# --check if data file exists--\n",
    "my_file = Path(local_csv_filename)\n",
    "if my_file.exists() == False:\n",
    "    print('\\nFile does not exist: ' + local_csv_filename)\n",
    "    print('Check and rerun cells that set that path before continuing.\\n')\n",
    "    exit()"
   ]
  },
  {
   "cell_type": "code",
   "execution_count": 8,
   "metadata": {},
   "outputs": [
    {
     "name": "stdout",
     "output_type": "stream",
     "text": [
      "\n",
      "Chicago dataset loaded:\n",
      "\n",
      "<class 'pandas.core.frame.DataFrame'>\n",
      "RangeIndex: 2069 entries, 0 to 2068\n",
      "Data columns (total 3 columns):\n",
      " #   Column                              Non-Null Count  Dtype\n",
      "---  ------                              --------------  -----\n",
      " 0   Votes                               2069 non-null   int64\n",
      " 1   Joseph R. Biden & Kamala D. Harris  2069 non-null   int64\n",
      " 2   Donald J. Trump & Michael R. Pence  2069 non-null   int64\n",
      "dtypes: int64(3)\n",
      "memory usage: 48.6 KB\n",
      "\n"
     ]
    }
   ],
   "source": [
    "# --load the dataset--\n",
    "df = pd.read_csv(local_csv_filename)\n",
    "print('\\nChicago dataset loaded:\\n')\n",
    "df.info()\n",
    "print()"
   ]
  },
  {
   "cell_type": "code",
   "execution_count": 9,
   "metadata": {},
   "outputs": [],
   "source": [
    "# --define helper functions--\n",
    "def first_digit(n):\n",
    "    while (n >= 10):\n",
    "        n /= 10\n",
    "    return int(n)\n",
    "\n",
    "def last_digit(n):\n",
    "    return n % 10\n",
    "\n",
    "def last_two_digits(n):\n",
    "    return np.abs(n) % 100"
   ]
  },
  {
   "cell_type": "code",
   "execution_count": 10,
   "metadata": {},
   "outputs": [
    {
     "name": "stdout",
     "output_type": "stream",
     "text": [
      "\n"
     ]
    },
    {
     "data": {
      "image/png": "[encoded data removed]",
      "text/plain": [
       "<Figure size 432x288 with 1 Axes>"
      ]
     },
     "metadata": {
      "needs_background": "light"
     },
     "output_type": "display_data"
    },
    {
     "name": "stdout",
     "output_type": "stream",
     "text": [
      "\n",
      "If you look at Biden's vote totals across the Chicago area, they do not match Benford's Law.\n",
      "\n"
     ]
    }
   ],
   "source": [
    "# --plot Biden's first digits--\n",
    "df['Biden First Digit'] = df[d_column].apply(lambda x: first_digit(x)) # add a column to the dataframe using first_digit\n",
    "d_count = df['Biden First Digit'].value_counts().to_dict()             # count frequency of each digit\n",
    "plt.bar(d_count.keys(),d_count.values(),color='b')                     # plot\n",
    "plt.title(\"Biden Lead Digit Frequency\")\n",
    "plt.xlabel(\"Digit\")\n",
    "plt.ylabel(\"Frequency\")\n",
    "plt.xticks(df_bd['Digit'])\n",
    "plt.plot(df_bd['Digit'],df_bd['Proportion']/100*max(df[v_column]), color='black') # overlay Benford's distribution\n",
    "print()\n",
    "plt.show()\n",
    "print('\\nIf you look at Biden\\'s vote totals across the Chicago area, they do not match Benford\\'s Law.\\n')"
   ]
  },
  {
   "cell_type": "code",
   "execution_count": 11,
   "metadata": {},
   "outputs": [
    {
     "name": "stdout",
     "output_type": "stream",
     "text": [
      "\n"
     ]
    },
    {
     "data": {
      "image/png": "[encoded data removed]",
      "text/plain": [
       "<Figure size 432x288 with 1 Axes>"
      ]
     },
     "metadata": {
      "needs_background": "light"
     },
     "output_type": "display_data"
    },
    {
     "name": "stdout",
     "output_type": "stream",
     "text": [
      "\n",
      "On the other hand, Trump's data looks like it does match Benford's Law.\n",
      "\n",
      "And with that, we've successfully verified the initial premise of the video (and this specific claim of fraud to which it responds to).\n",
      "Let's continue, and explore why Biden's data does not follow Benford's Law when Trump's seemingly does.\n",
      "Trump's data offers some interesting results, as does Biden's.\n",
      "\n"
     ]
    }
   ],
   "source": [
    "# --plot Trump's first digits--\n",
    "df['Trump First Digit'] = df[r_column].apply(lambda x: first_digit(x)) # same as before\n",
    "r_count = df['Trump First Digit'].value_counts().to_dict()\n",
    "plt.bar(r_count.keys(),r_count.values(),color='r')\n",
    "plt.title(\"Trump Lead Digit Frequency\")\n",
    "plt.xlabel(\"Digit\")\n",
    "plt.ylabel(\"Frequency\")\n",
    "plt.xticks(df_bd['Digit'])\n",
    "plt.plot(df_bd['Digit'],df_bd['Proportion']/100*max(df[v_column]), color='black')\n",
    "print()\n",
    "plt.show()\n",
    "print('\\nOn the other hand, Trump\\'s data looks like it does match Benford\\'s Law.')\n",
    "print('\\nAnd with that, we\\'ve successfully verified the initial premise of the video (and this specific claim of fraud to which it responds to).')\n",
    "print('Let\\'s continue, and explore why Biden\\'s data does not follow Benford\\'s Law when Trump\\'s seemingly does.')\n",
    "print('Trump\\'s data offers some interesting results, as does Biden\\'s.\\n')"
   ]
  },
  {
   "cell_type": "code",
   "execution_count": 12,
   "metadata": {},
   "outputs": [
    {
     "name": "stdout",
     "output_type": "stream",
     "text": [
      "\n",
      "Let's look closely at the dataset.\n",
      "There are 2069 precincts.\n",
      "They're picked to have roughly the same size population each, and we can see that.\n",
      "According to the data we've loaded:\n",
      "The smallest one, according to our data, had 39 votes.\n",
      "The biggest one, 1884.\n",
      "The average however, 550.\n",
      "The standard deviation, very tight! 195.\n",
      "There are only 6 precincts with less than 100 votes,\n",
      "and only 46 precincts that had 1000 or more votes,\n",
      "which means 2023 or a massive 97% of precincts had three digit totals.\n",
      "\n",
      "That's the opposite of \"spanning multiple magnitudes.\"\n",
      "So it's actually not expected to get a Benford Distribution.\n",
      "\n"
     ]
    }
   ],
   "source": [
    "# --evaluate dataset--\n",
    "precincts = len(df)\n",
    "minvotes = min(df[v_column])\n",
    "maxvotes = max(df[v_column])\n",
    "avgvotes = np.mean(df[v_column])\n",
    "stdvotes = np.std(df[v_column])\n",
    "lessthan100votes = len(np.where(df[v_column] < 100)[0])\n",
    "morethan1000votes = len(np.where(df[v_column] >= 1000)[0])\n",
    "num3digit = len(np.where(df[v_column]/1000<1)[0])\n",
    "percent3digit = num3digit/precincts*100\n",
    "print('\\nLet\\'s look closely at the dataset.')\n",
    "print('There are ' + str(precincts) + ' precincts.')\n",
    "print('They\\'re picked to have roughly the same size population each, and we can see that.')\n",
    "print('According to the data we\\'ve loaded:')\n",
    "print('The smallest one, according to our data, had ' + str(minvotes) + ' votes.')\n",
    "print('The biggest one, ' + str(maxvotes) + '.')\n",
    "print('The average however, ' + str(int(avgvotes)) + '.')\n",
    "print('The standard deviation, very tight! ' + str(int(stdvotes)) + '.')\n",
    "print('There are only ' + str(lessthan100votes) + ' precincts with less than 100 votes,')\n",
    "print('and only ' + str(morethan1000votes) + ' precincts that had 1000 or more votes,')\n",
    "print('which means ' + str(num3digit) + ' or a massive ' + str(int(percent3digit)) + '% of precincts had three digit totals.')\n",
    "print('\\nThat\\'s the opposite of \"spanning multiple magnitudes.\"')\n",
    "print('So it\\'s actually not expected to get a Benford Distribution.\\n')"
   ]
  },
  {
   "cell_type": "code",
   "execution_count": 13,
   "metadata": {},
   "outputs": [
    {
     "name": "stdout",
     "output_type": "stream",
     "text": [
      "\n",
      "The test cases: How do our results compare to that of the YouTube video?\n",
      "We can take numbers cited in \"Why do Biden's votes not follow Benford's Law?\" as \"expected\" values and compare our own calculated values.\n",
      "\n",
      "                                         Value  Expected       Actual   Pass\n",
      "0                                    Precincts    2069.0  2069.000000   True\n",
      "1                                    Min votes      39.0    39.000000   True\n",
      "2                                    Max votes    1655.0  1884.000000  False\n",
      "3                                Average votes     516.0   550.614790  False\n",
      "4                  Standard deviation in votes     173.0   195.816018  False\n",
      "5                   Precincts with < 100 votes       7.0     6.000000  False\n",
      "6                 Precincts with >= 1000 votes      20.0    46.000000  False\n",
      "7       Precincts with three-digit vote totals    2042.0  2023.000000  False\n",
      "8  % of precincts with three-digit vote totals      98.7    97.776704  False\n",
      "\n",
      "Many of these numbers do not match. We can redownload the data and examine it, but the results are the same.\n",
      "This does not necessarily mean the experiment is failed, some observations can be made:\n",
      "The passed test for number of precincts is a good sign; we certainly wouldn't expect that to change.\n",
      "The differences are not huge. Where they do differ, the value from our data is always higher than the \"expected\", with the exception of the number of precincts below 100 votes and the number/percentage of precints with three-digit vote totals. As for those, a lower value actually represents the vote totals being higher anyway.\n",
      "\n",
      "The conclusion: More votes have been counted. The video which our experiment is verifying was published on November 10th, just days after the election. Our data was downloaded again nearly a month later.\n",
      "\n"
     ]
    }
   ],
   "source": [
    "# --test against results from video--\n",
    "print('\\nThe test cases: How do our results compare to that of the YouTube video?')\n",
    "print('We can take numbers cited in \"Why do Biden\\'s votes not follow Benford\\'s Law?\" as \"expected\" values and compare our own calculated values.\\n')\n",
    "\n",
    "test = {'Value': ['Precincts','Min votes','Max votes','Average votes','Standard deviation in votes','Precincts with < 100 votes','Precincts with >= 1000 votes','Precincts with three-digit vote totals','% of precincts with three-digit vote totals'],\n",
    "        'Expected': [2069, 39, 1655, 516, 173, 7, 20, 2042, 98.7],\n",
    "        'Actual': [precincts, minvotes, maxvotes, avgvotes, stdvotes, lessthan100votes, morethan1000votes, num3digit, percent3digit]\n",
    "       }\n",
    "\n",
    "test_df = pd.DataFrame(test, columns=['Value','Expected','Actual'])\n",
    "test_df['Pass'] = test_df['Expected']==test_df['Actual']\n",
    "print(test_df)\n",
    "\n",
    "print('\\nMany of these numbers do not match. We can redownload the data and examine it, but the results are the same.')\n",
    "print('This does not necessarily mean the experiment is failed, some observations can be made:')\n",
    "print('The passed test for number of precincts is a good sign; we certainly wouldn\\'t expect that to change.')\n",
    "print('The differences are not huge. Where they do differ, the value from our data is always higher than the \"expected\", '\n",
    "      + 'with the exception of the number of precincts below 100 votes and '\n",
    "      + 'the number/percentage of precincts with three-digit vote totals. '\n",
    "      + 'As for those, a lower value actually represents the vote totals being higher anyway.')\n",
    "print('\\nThe conclusion: More votes have been counted. '\n",
    "      + 'The video which our experiment is verifying was published on November 10th, just days after the election. '\n",
    "     + 'Our data was downloaded again nearly a month later.\\n')"
   ]
  },
  {
   "cell_type": "code",
   "execution_count": 14,
   "metadata": {},
   "outputs": [
    {
     "name": "stdout",
     "output_type": "stream",
     "text": [
      "\n",
      "While we're here...\n",
      "\n"
     ]
    },
    {
     "data": {
      "image/png": "[encoded data removed]",
      "text/plain": [
       "<Figure size 432x288 with 1 Axes>"
      ]
     },
     "metadata": {
      "needs_background": "light"
     },
     "output_type": "display_data"
    },
    {
     "name": "stdout",
     "output_type": "stream",
     "text": [
      "Here's a distribution of Biden's vote totals. As you can see, it's basically a normal distribution.\n",
      "That's because Biden was the favorite in the Chicago area, so he got a consistent percentage of those three-digit precincts.\n",
      "Take a look again at the Benford Distribution for Biden.\n"
     ]
    },
    {
     "data": {
      "image/png": "[encoded data removed]",
      "text/plain": [
       "<Figure size 432x288 with 1 Axes>"
      ]
     },
     "metadata": {
      "needs_background": "light"
     },
     "output_type": "display_data"
    },
    {
     "name": "stdout",
     "output_type": "stream",
     "text": [
      "What you're looking at is a simplified version of the first distribution.\n",
      "\n"
     ]
    }
   ],
   "source": [
    "# --Biden vote total frequency--\n",
    "print('\\nWhile we\\'re here...\\n')\n",
    "d_frequency = df[d_column].value_counts().to_dict()\n",
    "plt.bar(d_frequency.keys(),d_frequency.values(),width=1,color='b')\n",
    "plt.title(\"Biden Vote Total Frequency\")\n",
    "plt.xlabel(\"Vote Total\")\n",
    "plt.ylabel(\"Frequency\")\n",
    "plt.show()\n",
    "\n",
    "print('Here\\'s a distribution of Biden\\'s vote totals. As you can see, it\\'s basically a normal distribution.' )\n",
    "print('That\\'s because Biden was the favorite in the Chicago area, so he got a consistent percentage of those three-digit precincts.')\n",
    "print('Take a look again at the Benford Distribution for Biden.')\n",
    "plt.bar(d_count.keys(),d_count.values(),color='b')\n",
    "plt.title(\"Biden Lead Digit Frequency\")\n",
    "plt.xlabel(\"Digit\")\n",
    "plt.ylabel(\"Frequency\")\n",
    "plt.xticks(df_bd['Digit'])\n",
    "plt.plot(df_bd['Digit'],df_bd['Proportion']/100*max(df[v_column]), color='black') # overlay Benford's distribution\n",
    "plt.show()\n",
    "print('What you\\'re looking at is a simplified version of the first distribution.\\n')"
   ]
  },
  {
   "cell_type": "code",
   "execution_count": 15,
   "metadata": {},
   "outputs": [
    {
     "name": "stdout",
     "output_type": "stream",
     "text": [
      "\n",
      "There is another method. You can look at the last digits and expect them to be roughly random. If not, that may be something to look into. Humans are bad at picking random numbers.\n"
     ]
    },
    {
     "data": {
      "image/png": "[encoded data removed]",
      "text/plain": [
       "<Figure size 432x288 with 1 Axes>"
      ]
     },
     "metadata": {
      "needs_background": "light"
     },
     "output_type": "display_data"
    }
   ],
   "source": [
    "# --Biden frquency of last two digits--\n",
    "print('\\nThere is another method. You can look at the last digits and expect them to be roughly random. If not, that may be something to look into. Humans are bad at picking random numbers.')\n",
    "d_last_2_column = 'Biden Last Two Digits'\n",
    "df[d_last_2_column] = last_two_digits(df[d_column])\n",
    "d_2_frequency = df[d_last_2_column].value_counts().to_dict()\n",
    "plt.bar(d_2_frequency.keys(),d_2_frequency.values(),width=1,color='b')\n",
    "plt.title(\"Biden Last Two Digits Frequency\")\n",
    "plt.xlabel(\"Last Two Digits\")\n",
    "plt.ylabel(\"Frequency\")\n",
    "plt.show()"
   ]
  },
  {
   "cell_type": "code",
   "execution_count": 16,
   "metadata": {},
   "outputs": [
    {
     "name": "stdout",
     "output_type": "stream",
     "text": [
      "\n",
      "Let's compare that last graph to actual random data.\n",
      "\n"
     ]
    },
    {
     "data": {
      "image/png": "[encoded data removed]",
      "text/plain": [
       "<Figure size 432x288 with 1 Axes>"
      ]
     },
     "metadata": {
      "needs_background": "light"
     },
     "output_type": "display_data"
    },
    {
     "name": "stdout",
     "output_type": "stream",
     "text": [
      "The last two digits of Biden's vote totals do, in fact, appear random.\n",
      "\n"
     ]
    }
   ],
   "source": [
    "# --frequency of random digit pairs--\n",
    "print('\\nLet\\'s compare that last graph to actual random data.\\n')\n",
    "rand_2_column = 'Random Two Digits'\n",
    "df[rand_2_column] = np.random.randint(1,99, size=len(df))\n",
    "rand_2_frequency = df[rand_2_column].value_counts().to_dict()\n",
    "plt.bar(rand_2_frequency.keys(),rand_2_frequency.values(),width=1,color='k')\n",
    "plt.title(\"Random Two Digits Frequency\")\n",
    "plt.xlabel(\"Two Digits\")\n",
    "plt.ylabel(\"Frequency\")\n",
    "plt.show()\n",
    "\n",
    "print('The last two digits of Biden\\'s vote totals do, in fact, appear random.\\n')"
   ]
  },
  {
   "cell_type": "code",
   "execution_count": 17,
   "metadata": {},
   "outputs": [
    {
     "name": "stdout",
     "output_type": "stream",
     "text": [
      "\n",
      "What about Trump?\n"
     ]
    },
    {
     "data": {
      "image/png": "[encoded data removed]",
      "text/plain": [
       "<Figure size 432x288 with 1 Axes>"
      ]
     },
     "metadata": {
      "needs_background": "light"
     },
     "output_type": "display_data"
    },
    {
     "name": "stdout",
     "output_type": "stream",
     "text": [
      "\n",
      "Woah! There's a tower...a...Trump tower?\n",
      "It is a major deviation from what we would expect and therefore a cause for concern, possibly fraud. Or is it?\n",
      "\n"
     ]
    }
   ],
   "source": [
    "# --Trump frequency of last two digits--\n",
    "print('\\nWhat about Trump?')\n",
    "r_last_2_column = 'Trump Last Two Digits'\n",
    "df[r_last_2_column] = last_two_digits(df[r_column])\n",
    "r_2_frequency = df[r_last_2_column].value_counts().to_dict()\n",
    "plt.bar(r_2_frequency.keys(),r_2_frequency.values(),width=1,color='r')\n",
    "plt.title(\"Trump Last Two Digits Frequency\")\n",
    "plt.xlabel(\"Last Two Digits\")\n",
    "plt.ylabel(\"Frequency\")\n",
    "plt.show()\n",
    "print('\\nWoah! There\\'s a tower...a...Trump tower?')\n",
    "print('It is a major deviation from what we would expect and therefore a cause for concern, possibly fraud. Or is it?\\n')"
   ]
  },
  {
   "cell_type": "code",
   "execution_count": 18,
   "metadata": {},
   "outputs": [
    {
     "name": "stdout",
     "output_type": "stream",
     "text": [
      "\n",
      "Earlier we looked at the distribution of vote totals for Biden. As a reminder:\n"
     ]
    },
    {
     "data": {
      "image/png": "[encoded data removed]",
      "text/plain": [
       "<Figure size 432x288 with 1 Axes>"
      ]
     },
     "metadata": {
      "needs_background": "light"
     },
     "output_type": "display_data"
    },
    {
     "name": "stdout",
     "output_type": "stream",
     "text": [
      "\n",
      "If we do the same for Trump, we get this.\n"
     ]
    },
    {
     "data": {
      "image/png": "[encoded data removed]",
      "text/plain": [
       "<Figure size 432x288 with 1 Axes>"
      ]
     },
     "metadata": {
      "needs_background": "light"
     },
     "output_type": "display_data"
    },
    {
     "name": "stdout",
     "output_type": "stream",
     "text": [
      "The majority of Trump's vote totals were only a two digit number.\n",
      "So when we're looking at the \"last two digits\", in most cases, it's just the digits.\n",
      "So we should not expect a random distribution. Once again, though at first something seems off, we are actually just looking at the data itself.\n",
      "\n"
     ]
    }
   ],
   "source": [
    "# --set up--\n",
    "print('\\nEarlier we looked at the distribution of vote totals for Biden. As a reminder:')\n",
    "plt.bar(d_frequency.keys(),d_frequency.values(),width=1,color='b')\n",
    "plt.title(\"Biden Vote Total Frequency\")\n",
    "plt.xlabel(\"Vote Total\")\n",
    "plt.ylabel(\"Frequency\")\n",
    "plt.show()\n",
    "print()\n",
    "\n",
    "# --Trump vote total frequency--\n",
    "print('If we do the same for Trump, we get this.')\n",
    "r_frequency = df[r_column].value_counts().to_dict()\n",
    "plt.bar(r_frequency.keys(),r_frequency.values(),width=1,color='r')\n",
    "plt.title(\"Trump Vote Total Frequency\")\n",
    "plt.xlabel(\"Vote Total\")\n",
    "plt.ylabel(\"Frequency\")\n",
    "plt.show()\n",
    "print('The majority of Trump\\'s vote totals were only a two digit number.')\n",
    "print('So when we\\'re looking at the \"last two digits\", in most cases, it\\'s just the digits.')\n",
    "print('So we should not expect a random distribution. Once again, though at first something seems off, we are actually just looking at the data itself.\\n')"
   ]
  },
  {
   "cell_type": "code",
   "execution_count": 19,
   "metadata": {},
   "outputs": [
    {
     "name": "stdout",
     "output_type": "stream",
     "text": [
      "\n",
      "And that's the moral of the story. These tests can be an interesting way to spot that something might be wrong, but they do not guarentee that there is something wrong.\n",
      "You should take a closer look at the data, don't take someone's word for it, verify for yourself, double check.\n",
      "\n"
     ]
    }
   ],
   "source": [
    "print('\\nAnd that\\'s the moral of the story. These tests can be an interesting way to spot that something might be wrong, but they do not guarantee that there is something wrong.')\n",
    "print('You should take a closer look at the data, don\\'t take someone\\'s word for it, verify for yourself, double check.\\n')"
   ]
  },
  {
   "cell_type": "code",
   "execution_count": null,
   "metadata": {},
   "outputs": [],
   "source": [
    "print('\\nFrom Benford\\'s Law and the Detection of Election Fraud (2011):')\n",
    "print('\\n\"Benford\\'s Law is problematical at best as a forensic tool when applied to elections.\"')\n",
    "print('\\n\"If a competitive two candidate race occurs in districts whose magnitude varies between 100 and 1000, the modal first digit for each candidate\\'s vote will not be 1 of 2 but rather 4, 5, or 6.\"')\n",
    "print('\\n\"It is not simply that the law occasional judges a fraudulent election fair or a fair election fraudulent. It\\'s \\'success rate\\' either way is essentially equivalent to a toss of a coin, thereby rendering it problematical at best as a forensic tool and wholly misleading at worst.\"\\n')"
   ]
  },
  {
   "cell_type": "code",
   "execution_count": null,
   "metadata": {},
   "outputs": [],
   "source": []
  }
 ],
 "metadata": {
  "kernelspec": {
   "display_name": "Python 3",
   "language": "python",
   "name": "python3"
  },
  "language_info": {
   "codemirror_mode": {
    "name": "ipython",
    "version": 3
   },
   "file_extension": ".py",
   "mimetype": "text/x-python",
   "name": "python",
   "nbconvert_exporter": "python",
   "pygments_lexer": "ipython3",
   "version": "3.8.3"
  }
 },
 "nbformat": 4,
 "nbformat_minor": 4
}
